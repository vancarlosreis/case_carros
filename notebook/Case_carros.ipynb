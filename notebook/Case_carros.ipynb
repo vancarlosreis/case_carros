{
  "cells": [
    {
      "cell_type": "markdown",
      "source": [
        "# **Instalação PySpark**"
      ],
      "metadata": {
        "id": "sORT06LaSUMj"
      }
    },
    {
      "cell_type": "code",
      "source": [
        "#check that java is installed\n",
        "!java -version"
      ],
      "metadata": {
        "id": "Lb9P1hpLCaC3",
        "colab": {
          "base_uri": "https://localhost:8080/"
        },
        "outputId": "07701d54-6454-4b0c-f840-5aab7449e010"
      },
      "execution_count": 1,
      "outputs": [
        {
          "output_type": "stream",
          "name": "stdout",
          "text": [
            "openjdk version \"11.0.27\" 2025-04-15\n",
            "OpenJDK Runtime Environment (build 11.0.27+6-post-Ubuntu-0ubuntu122.04)\n",
            "OpenJDK 64-Bit Server VM (build 11.0.27+6-post-Ubuntu-0ubuntu122.04, mixed mode, sharing)\n"
          ]
        }
      ]
    },
    {
      "cell_type": "code",
      "execution_count": 2,
      "metadata": {
        "id": "rqIekXhmYM_X",
        "colab": {
          "base_uri": "https://localhost:8080/"
        },
        "outputId": "3d0d4b53-6f0e-4365-c1fc-a70196656dbc"
      },
      "outputs": [
        {
          "output_type": "stream",
          "name": "stdout",
          "text": [
            "Requirement already satisfied: pyspark in /usr/local/lib/python3.11/dist-packages (3.5.1)\n",
            "Requirement already satisfied: py4j==0.10.9.7 in /usr/local/lib/python3.11/dist-packages (from pyspark) (0.10.9.7)\n"
          ]
        }
      ],
      "source": [
        "#install pyspark\n",
        "!pip install pyspark"
      ]
    },
    {
      "cell_type": "code",
      "execution_count": 93,
      "metadata": {
        "id": "UBf_r69QXSWo"
      },
      "outputs": [],
      "source": [
        "import os\n",
        "import pandas as pd\n",
        "from pyspark.sql import SparkSession\n",
        "from pyspark.sql.types import StructType, StructField, StringType, IntegerType, DoubleType, LongType, TimestampType, DateType"
      ]
    },
    {
      "cell_type": "code",
      "execution_count": 4,
      "metadata": {
        "id": "ZluUVYeOX2TX",
        "outputId": "c480546d-e6bc-4d0a-d452-2503ab2d41fc",
        "colab": {
          "base_uri": "https://localhost:8080/"
        }
      },
      "outputs": [
        {
          "output_type": "stream",
          "name": "stdout",
          "text": [
            "  % Total    % Received % Xferd  Average Speed   Time    Time     Time  Current\n",
            "                                 Dload  Upload   Total   Spent    Left  Speed\n",
            "100   284  100   284    0     0     20      0  0:00:14  0:00:13  0:00:01    71\n",
            "\n",
            "gzip: Automotive.jsonl.gz: not in gzip format\n"
          ]
        }
      ],
      "source": [
        "#use curl to download the data then unzip it into the content directory\n",
        "!curl -O https://datarepo.eng.ucsd.edu/mcauley_group/data/amazon_2023/raw/review_categories/Automotive.jsonl.gz\n",
        "!gunzip -f Automotive.jsonl.gz"
      ]
    },
    {
      "cell_type": "code",
      "execution_count": 5,
      "metadata": {
        "id": "AENSsTTOg--C",
        "outputId": "5ea99ad2-bd53-4e86-a76d-1c0543b5fbd5",
        "colab": {
          "base_uri": "https://localhost:8080/"
        }
      },
      "outputs": [
        {
          "output_type": "stream",
          "name": "stdout",
          "text": [
            "The size of the Amazon Automotive Revie file is: 0.00 GB\n"
          ]
        }
      ],
      "source": [
        "print(f'The size of the Amazon Automotive Revie file is: {os.path.getsize(\"/content/Automotive.jsonl.gz\") / (1024 ** 3):.2f} GB')"
      ]
    },
    {
      "cell_type": "code",
      "source": [
        "spark = SparkSession.builder.appName('AutomotiveData').getOrCreate()\n",
        "\n",
        "print(f'The Spark version is {spark.version}')"
      ],
      "metadata": {
        "id": "Zp-vmr6HyMdd",
        "colab": {
          "base_uri": "https://localhost:8080/"
        },
        "outputId": "fed5816b-0463-4eff-f172-4d2f587d29d3"
      },
      "execution_count": 6,
      "outputs": [
        {
          "output_type": "stream",
          "name": "stdout",
          "text": [
            "The Spark version is 3.5.1\n"
          ]
        }
      ]
    },
    {
      "cell_type": "code",
      "source": [
        "from pyspark.sql.functions import col\n",
        "from pyspark.sql.functions import substring, date_format, to_date"
      ],
      "metadata": {
        "id": "eaRaiRtXBlgv"
      },
      "execution_count": 98,
      "outputs": []
    },
    {
      "cell_type": "markdown",
      "source": [
        "# **ETL**"
      ],
      "metadata": {
        "id": "VLd8UuoPSmQq"
      }
    },
    {
      "cell_type": "code",
      "source": [
        "df = spark.read.csv('/content/car_prices.csv', header=True, inferSchema=True)\n",
        "df.show(10)"
      ],
      "metadata": {
        "colab": {
          "base_uri": "https://localhost:8080/"
        },
        "id": "_fsbX1T74wSo",
        "outputId": "3f16c478-38a2-4c42-a9a0-b4896e15e61f"
      },
      "execution_count": 54,
      "outputs": [
        {
          "output_type": "stream",
          "name": "stdout",
          "text": [
            "+----+---------+-------------------+--------------------+-----------+------------+-----------------+-----+---------+--------+-----+--------+--------------------+-----+------------+--------------------+\n",
            "|year|     make|              model|                trim|       body|transmission|              vin|state|condition|odometer|color|interior|              seller|  mmr|sellingprice|            saledate|\n",
            "+----+---------+-------------------+--------------------+-----------+------------+-----------------+-----+---------+--------+-----+--------+--------------------+-----+------------+--------------------+\n",
            "|2015|      Kia|            Sorento|                  LX|        SUV|   automatic|5xyktca69fg566472|   ca|        5|   16639|white|   black|kia motors americ...|20500|       21500|Tue Dec 16 2014 1...|\n",
            "|2015|      Kia|            Sorento|                  LX|        SUV|   automatic|5xyktca69fg561319|   ca|        5|    9393|white|   beige|kia motors americ...|20800|       21500|Tue Dec 16 2014 1...|\n",
            "|2014|      BMW|           3 Series|          328i SULEV|      Sedan|   automatic|wba3c1c51ek116351|   ca|       45|    1331| gray|   black|financial service...|31900|       30000|Thu Jan 15 2015 0...|\n",
            "|2015|    Volvo|                S60|                  T5|      Sedan|   automatic|yv1612tb4f1310987|   ca|       41|   14282|white|   black|volvo na rep/worl...|27500|       27750|Thu Jan 29 2015 0...|\n",
            "|2014|      BMW|6 Series Gran Coupe|                650i|      Sedan|   automatic|wba6b2c57ed129731|   ca|       43|    2641| gray|   black|financial service...|66000|       67000|Thu Dec 18 2014 1...|\n",
            "|2015|   Nissan|             Altima|               2.5 S|      Sedan|   automatic|1n4al3ap1fn326013|   ca|        1|    5554| gray|   black|enterprise vehicl...|15350|       10900|Tue Dec 30 2014 1...|\n",
            "|2014|      BMW|                 M5|                Base|      Sedan|   automatic|wbsfv9c51ed593089|   ca|       34|   14943|black|   black|the hertz corpora...|69000|       65000|Wed Dec 17 2014 1...|\n",
            "|2014|Chevrolet|              Cruze|                 1LT|      Sedan|   automatic|1g1pc5sb2e7128460|   ca|        2|   28617|black|   black|enterprise vehicl...|11900|        9800|Tue Dec 16 2014 1...|\n",
            "|2014|     Audi|                 A4|2.0T Premium Plus...|      Sedan|   automatic|wauffafl3en030343|   ca|       42|    9557|white|   black|  audi mission viejo|32100|       32250|Thu Dec 18 2014 1...|\n",
            "|2014|Chevrolet|             Camaro|                  LT|Convertible|   automatic|2g1fb3d37e9218789|   ca|        3|    4809|  red|   black|  d/m auto sales inc|26300|       17500|Tue Jan 20 2015 0...|\n",
            "+----+---------+-------------------+--------------------+-----------+------------+-----------------+-----+---------+--------+-----+--------+--------------------+-----+------------+--------------------+\n",
            "only showing top 10 rows\n",
            "\n"
          ]
        }
      ]
    },
    {
      "cell_type": "code",
      "source": [
        "df.printSchema()"
      ],
      "metadata": {
        "colab": {
          "base_uri": "https://localhost:8080/"
        },
        "id": "71MVkAHN_3r_",
        "outputId": "7e357c2f-f8f9-4abc-f136-aa93d018ed39"
      },
      "execution_count": 13,
      "outputs": [
        {
          "output_type": "stream",
          "name": "stdout",
          "text": [
            "root\n",
            " |-- year: integer (nullable = true)\n",
            " |-- make: string (nullable = true)\n",
            " |-- model: string (nullable = true)\n",
            " |-- trim: string (nullable = true)\n",
            " |-- body: string (nullable = true)\n",
            " |-- transmission: string (nullable = true)\n",
            " |-- vin: string (nullable = true)\n",
            " |-- state: string (nullable = true)\n",
            " |-- condition: integer (nullable = true)\n",
            " |-- odometer: integer (nullable = true)\n",
            " |-- color: string (nullable = true)\n",
            " |-- interior: string (nullable = true)\n",
            " |-- seller: string (nullable = true)\n",
            " |-- mmr: integer (nullable = true)\n",
            " |-- sellingprice: integer (nullable = true)\n",
            " |-- saledate: string (nullable = true)\n",
            "\n"
          ]
        }
      ]
    },
    {
      "cell_type": "code",
      "source": [
        "for coluna in df.columns:\n",
        "  print(coluna, df.filter(df[coluna].isNull()).count())"
      ],
      "metadata": {
        "colab": {
          "base_uri": "https://localhost:8080/"
        },
        "id": "8i1uYWQq1wTP",
        "outputId": "e00ded1b-d96b-4c39-d425-881ef27b371b"
      },
      "execution_count": 40,
      "outputs": [
        {
          "output_type": "stream",
          "name": "stdout",
          "text": [
            "year 0\n",
            "make 0\n",
            "model 0\n",
            "trim 316\n",
            "body 2492\n",
            "transmission 0\n",
            "vin 4\n",
            "state 0\n",
            "condition 9866\n",
            "odometer 59\n",
            "color 581\n",
            "interior 581\n",
            "seller 0\n",
            "mmr 26\n",
            "sellingprice 0\n",
            "saledate 0\n"
          ]
        }
      ]
    },
    {
      "cell_type": "code",
      "source": [
        "df = df.filter(col('model').isNotNull() & col('sellingprice').isNotNull() & col('transmission').isNotNull())"
      ],
      "metadata": {
        "id": "n902fsSGEDVh"
      },
      "execution_count": 55,
      "outputs": []
    },
    {
      "cell_type": "markdown",
      "source": [],
      "metadata": {
        "id": "RhuEbPFUFm2C"
      }
    },
    {
      "cell_type": "code",
      "source": [
        "df = df.select(col('year'),col('make'), col('model'), col('transmission'),\\\n",
        "          col('state'),col('seller'), col('sellingprice'),col('saledate'))\n",
        "df.show(10)"
      ],
      "metadata": {
        "colab": {
          "base_uri": "https://localhost:8080/"
        },
        "id": "kJj7nVVzDci-",
        "outputId": "4327de50-33de-48d9-ca44-e93f571b121f"
      },
      "execution_count": 56,
      "outputs": [
        {
          "output_type": "stream",
          "name": "stdout",
          "text": [
            "+----+---------+-------------------+------------+-----+--------------------+------------+--------------------+\n",
            "|year|     make|              model|transmission|state|              seller|sellingprice|            saledate|\n",
            "+----+---------+-------------------+------------+-----+--------------------+------------+--------------------+\n",
            "|2015|      Kia|            Sorento|   automatic|   ca|kia motors americ...|       21500|Tue Dec 16 2014 1...|\n",
            "|2015|      Kia|            Sorento|   automatic|   ca|kia motors americ...|       21500|Tue Dec 16 2014 1...|\n",
            "|2014|      BMW|           3 Series|   automatic|   ca|financial service...|       30000|Thu Jan 15 2015 0...|\n",
            "|2015|    Volvo|                S60|   automatic|   ca|volvo na rep/worl...|       27750|Thu Jan 29 2015 0...|\n",
            "|2014|      BMW|6 Series Gran Coupe|   automatic|   ca|financial service...|       67000|Thu Dec 18 2014 1...|\n",
            "|2015|   Nissan|             Altima|   automatic|   ca|enterprise vehicl...|       10900|Tue Dec 30 2014 1...|\n",
            "|2014|      BMW|                 M5|   automatic|   ca|the hertz corpora...|       65000|Wed Dec 17 2014 1...|\n",
            "|2014|Chevrolet|              Cruze|   automatic|   ca|enterprise vehicl...|        9800|Tue Dec 16 2014 1...|\n",
            "|2014|     Audi|                 A4|   automatic|   ca|  audi mission viejo|       32250|Thu Dec 18 2014 1...|\n",
            "|2014|Chevrolet|             Camaro|   automatic|   ca|  d/m auto sales inc|       17500|Tue Jan 20 2015 0...|\n",
            "+----+---------+-------------------+------------+-----+--------------------+------------+--------------------+\n",
            "only showing top 10 rows\n",
            "\n"
          ]
        }
      ]
    },
    {
      "cell_type": "code",
      "source": [
        "df2 = df"
      ],
      "metadata": {
        "id": "npV6Qd1YHeZO"
      },
      "execution_count": 66,
      "outputs": []
    },
    {
      "cell_type": "code",
      "source": [
        "df2 = df2.withColumn('date', substring('saledate', 1,15))\n",
        "df2.show(10)"
      ],
      "metadata": {
        "colab": {
          "base_uri": "https://localhost:8080/"
        },
        "id": "ZNs2cimSH9zg",
        "outputId": "b98738f7-4484-42fb-9571-b8ed2ebae7f0"
      },
      "execution_count": 77,
      "outputs": [
        {
          "output_type": "stream",
          "name": "stdout",
          "text": [
            "+----+---------+-------------------+------------+-----+--------------------+------------+--------------------+---------------+\n",
            "|year|     make|              model|transmission|state|              seller|sellingprice|            saledate|           date|\n",
            "+----+---------+-------------------+------------+-----+--------------------+------------+--------------------+---------------+\n",
            "|2015|      Kia|            Sorento|   automatic|   ca|kia motors americ...|       21500|Tue Dec 16 2014 1...|Tue Dec 16 2014|\n",
            "|2015|      Kia|            Sorento|   automatic|   ca|kia motors americ...|       21500|Tue Dec 16 2014 1...|Tue Dec 16 2014|\n",
            "|2014|      BMW|           3 Series|   automatic|   ca|financial service...|       30000|Thu Jan 15 2015 0...|Thu Jan 15 2015|\n",
            "|2015|    Volvo|                S60|   automatic|   ca|volvo na rep/worl...|       27750|Thu Jan 29 2015 0...|Thu Jan 29 2015|\n",
            "|2014|      BMW|6 Series Gran Coupe|   automatic|   ca|financial service...|       67000|Thu Dec 18 2014 1...|Thu Dec 18 2014|\n",
            "|2015|   Nissan|             Altima|   automatic|   ca|enterprise vehicl...|       10900|Tue Dec 30 2014 1...|Tue Dec 30 2014|\n",
            "|2014|      BMW|                 M5|   automatic|   ca|the hertz corpora...|       65000|Wed Dec 17 2014 1...|Wed Dec 17 2014|\n",
            "|2014|Chevrolet|              Cruze|   automatic|   ca|enterprise vehicl...|        9800|Tue Dec 16 2014 1...|Tue Dec 16 2014|\n",
            "|2014|     Audi|                 A4|   automatic|   ca|  audi mission viejo|       32250|Thu Dec 18 2014 1...|Thu Dec 18 2014|\n",
            "|2014|Chevrolet|             Camaro|   automatic|   ca|  d/m auto sales inc|       17500|Tue Jan 20 2015 0...|Tue Jan 20 2015|\n",
            "+----+---------+-------------------+------------+-----+--------------------+------------+--------------------+---------------+\n",
            "only showing top 10 rows\n",
            "\n"
          ]
        }
      ]
    },
    {
      "cell_type": "code",
      "source": [
        "df = df2.withColumn(\"date_sale\",date_format(to_date(col(\"date\"), \"EEE MMM dd yyyy\"), \"yyyy-MM-dd\"))"
      ],
      "metadata": {
        "id": "rM50eA5WI3Uh"
      },
      "execution_count": 88,
      "outputs": []
    },
    {
      "cell_type": "code",
      "source": [
        "df = df.withColumn('date_sale', col('date_sale').cast(DateType()))\n",
        "df.show(5)"
      ],
      "metadata": {
        "id": "3clDzP9sS6Fg"
      },
      "execution_count": null,
      "outputs": []
    },
    {
      "cell_type": "code",
      "source": [
        "df = df.select(col('year'),col('make'), col('model'), col('transmission'),\\\n",
        "          col('state'),col('seller'), col('sellingprice'),col('date_sale'))\n",
        "df.show(10)"
      ],
      "metadata": {
        "colab": {
          "base_uri": "https://localhost:8080/"
        },
        "id": "O7-dezISLYua",
        "outputId": "caf5c2b0-c670-424a-ca29-c7d1ce247d85"
      },
      "execution_count": 89,
      "outputs": [
        {
          "output_type": "stream",
          "name": "stdout",
          "text": [
            "+----+---------+-------------------+------------+-----+--------------------+------------+----------+\n",
            "|year|     make|              model|transmission|state|              seller|sellingprice| date_sale|\n",
            "+----+---------+-------------------+------------+-----+--------------------+------------+----------+\n",
            "|2015|      Kia|            Sorento|   automatic|   ca|kia motors americ...|       21500|2014-12-16|\n",
            "|2015|      Kia|            Sorento|   automatic|   ca|kia motors americ...|       21500|2014-12-16|\n",
            "|2014|      BMW|           3 Series|   automatic|   ca|financial service...|       30000|2015-01-15|\n",
            "|2015|    Volvo|                S60|   automatic|   ca|volvo na rep/worl...|       27750|2015-01-29|\n",
            "|2014|      BMW|6 Series Gran Coupe|   automatic|   ca|financial service...|       67000|2014-12-18|\n",
            "|2015|   Nissan|             Altima|   automatic|   ca|enterprise vehicl...|       10900|2014-12-30|\n",
            "|2014|      BMW|                 M5|   automatic|   ca|the hertz corpora...|       65000|2014-12-17|\n",
            "|2014|Chevrolet|              Cruze|   automatic|   ca|enterprise vehicl...|        9800|2014-12-16|\n",
            "|2014|     Audi|                 A4|   automatic|   ca|  audi mission viejo|       32250|2014-12-18|\n",
            "|2014|Chevrolet|             Camaro|   automatic|   ca|  d/m auto sales inc|       17500|2015-01-20|\n",
            "+----+---------+-------------------+------------+-----+--------------------+------------+----------+\n",
            "only showing top 10 rows\n",
            "\n"
          ]
        }
      ]
    },
    {
      "cell_type": "code",
      "source": [
        "df.printSchema()"
      ],
      "metadata": {
        "colab": {
          "base_uri": "https://localhost:8080/"
        },
        "id": "80O2m3JXNQR_",
        "outputId": "218a5dfe-566c-460a-9061-305493b63de2"
      },
      "execution_count": 96,
      "outputs": [
        {
          "output_type": "stream",
          "name": "stdout",
          "text": [
            "root\n",
            " |-- year: integer (nullable = true)\n",
            " |-- make: string (nullable = true)\n",
            " |-- model: string (nullable = true)\n",
            " |-- transmission: string (nullable = true)\n",
            " |-- state: string (nullable = true)\n",
            " |-- seller: string (nullable = true)\n",
            " |-- sellingprice: integer (nullable = true)\n",
            " |-- date_sale: date (nullable = true)\n",
            "\n"
          ]
        }
      ]
    },
    {
      "cell_type": "code",
      "source": [
        "df = df.withColumnRenamed('year', 'ano').withColumnRenamed('make', 'fabricante')\\\n",
        "  .withColumnRenamed('model', 'modelo').withColumnRenamed('transmission', 'cambio')\\\n",
        "  .withColumnRenamed('state', 'estado').withColumnRenamed('seller', 'vendedor')\\\n",
        "  .withColumnRenamed('sellingprice', 'preco_venda').withColumnRenamed('date_sale', 'data_venda')\n",
        "\n",
        "df.show(20)"
      ],
      "metadata": {
        "colab": {
          "base_uri": "https://localhost:8080/"
        },
        "id": "BmBvTmFgOFN8",
        "outputId": "ffb72ccb-789f-437a-e7c2-fd9b179b24a3"
      },
      "execution_count": 97,
      "outputs": [
        {
          "output_type": "stream",
          "name": "stdout",
          "text": [
            "+----+----------+-------------------+---------+------+--------------------+-----------+----------+\n",
            "| ano|fabricante|             modelo|   cambio|estado|            vendedor|preco_venda|data_venda|\n",
            "+----+----------+-------------------+---------+------+--------------------+-----------+----------+\n",
            "|2015|       Kia|            Sorento|automatic|    ca|kia motors americ...|      21500|2014-12-16|\n",
            "|2015|       Kia|            Sorento|automatic|    ca|kia motors americ...|      21500|2014-12-16|\n",
            "|2014|       BMW|           3 Series|automatic|    ca|financial service...|      30000|2015-01-15|\n",
            "|2015|     Volvo|                S60|automatic|    ca|volvo na rep/worl...|      27750|2015-01-29|\n",
            "|2014|       BMW|6 Series Gran Coupe|automatic|    ca|financial service...|      67000|2014-12-18|\n",
            "|2015|    Nissan|             Altima|automatic|    ca|enterprise vehicl...|      10900|2014-12-30|\n",
            "|2014|       BMW|                 M5|automatic|    ca|the hertz corpora...|      65000|2014-12-17|\n",
            "|2014| Chevrolet|              Cruze|automatic|    ca|enterprise vehicl...|       9800|2014-12-16|\n",
            "|2014|      Audi|                 A4|automatic|    ca|  audi mission viejo|      32250|2014-12-18|\n",
            "|2014| Chevrolet|             Camaro|automatic|    ca|  d/m auto sales inc|      17500|2015-01-20|\n",
            "|2014|      Audi|                 A6|automatic|    ca|   desert auto trade|      49750|2014-12-16|\n",
            "|2015|       Kia|             Optima|automatic|    ca|  kia motors finance|      17700|2014-12-16|\n",
            "|2015|      Ford|             Fusion|automatic|    ca|enterprise vehicl...|      12000|2015-01-13|\n",
            "|2015|       Kia|            Sorento|automatic|    ca|kia motors americ...|      21500|2014-12-16|\n",
            "|2014| Chevrolet|              Cruze|automatic|    ca|avis rac/san leandro|      10600|2014-12-16|\n",
            "|2015|    Nissan|             Altima|automatic|    ca|enterprise vehicl...|      14100|2014-12-23|\n",
            "|2015|   Hyundai|             Sonata|automatic|    ca|            avis tra|       4200|2014-12-16|\n",
            "|2014|      Audi|                 Q5|automatic|    ca|audi north scotts...|      40000|2014-12-18|\n",
            "|2014| Chevrolet|             Camaro|automatic|    ca|wells fargo deale...|      17000|2014-12-30|\n",
            "|2014|       BMW|           6 Series|automatic|    ca|the hertz corpora...|      67200|2014-12-17|\n",
            "+----+----------+-------------------+---------+------+--------------------+-----------+----------+\n",
            "only showing top 20 rows\n",
            "\n"
          ]
        }
      ]
    },
    {
      "cell_type": "code",
      "source": [
        "df.write \\\n",
        "    .option(\"header\", True) \\\n",
        "    .option(\"delimiter\", \",\") \\\n",
        "    .mode(\"overwrite\") \\\n",
        "    .csv(\"/content/Carros.csv\")"
      ],
      "metadata": {
        "id": "s_YKWFxVS-64"
      },
      "execution_count": 99,
      "outputs": []
    }
  ],
  "metadata": {
    "colab": {
      "provenance": [],
      "collapsed_sections": [
        "sORT06LaSUMj"
      ]
    },
    "kernelspec": {
      "display_name": "Python 3",
      "name": "python3"
    },
    "language_info": {
      "name": "python"
    }
  },
  "nbformat": 4,
  "nbformat_minor": 0
}